{
 "cells": [
  {
   "cell_type": "code",
   "execution_count": 39,
   "metadata": {},
   "outputs": [],
   "source": [
    "import cv2\n",
    "import os\n",
    "import matplotlib.pyplot as plt\n",
    "\n",
    "#digit value\n",
    "x1, y1 = 550, 120\n",
    "x2, y2 = 680, 185\n",
    "\n",
    "#handwritten value\n",
    "x1hw, y1hw = 10, 150\n",
    "x2hw, y2hw = 520, 190\n",
    "\n",
    "def load_images_from_folder(folder):\n",
    "    images = []\n",
    "    for file_name in os.listdir(folder):\n",
    "        img = cv2.resize(cv2.imread(os.path.join(folder,file_name), cv2.IMREAD_GRAYSCALE), (700, 350))\n",
    "        cropped_img = img[y1hw:y2hw, x1hw:x2hw]\n",
    "        if img is not None:\n",
    "            images.append(cropped_img)\n",
    "    return images\n",
    "\n",
    "\n"
   ]
  },
  {
   "cell_type": "code",
   "execution_count": 40,
   "metadata": {},
   "outputs": [],
   "source": [
    "training = load_images_from_folder(\"images\")\n",
    "validation = load_images_from_folder(\"validation\")"
   ]
  },
  {
   "cell_type": "code",
   "execution_count": 41,
   "metadata": {},
   "outputs": [
    {
     "data": {
      "image/png": "[encoded data removed]",
      "text/plain": [
       "<Figure size 432x288 with 1 Axes>"
      ]
     },
     "metadata": {
      "needs_background": "light"
     },
     "output_type": "display_data"
    }
   ],
   "source": [
    "plt.imshow(training[5])\n",
    "plt.show()"
   ]
  },
  {
   "cell_type": "code",
   "execution_count": 42,
   "metadata": {},
   "outputs": [],
   "source": [
    "import tensorflow as tf\n",
    "import numpy as np\n",
    "from tensorflow.keras.models import Sequential\n",
    "from tensorflow.keras.layers import Dense, Dropout, Flatten, Conv2D, MaxPooling2D\n",
    "from keras.models import model_from_json\n"
   ]
  },
  {
   "cell_type": "code",
   "execution_count": 43,
   "metadata": {},
   "outputs": [],
   "source": [
    "from csv import reader\n",
    " \n",
    "# Load a CSV file\n",
    "def load_csv(filename):\n",
    "    file = open(filename, \"r\")\n",
    "    lines = reader(file)\n",
    "    dataset = list(lines)\n",
    "    return dataset\n",
    "\n",
    "#load_csv(\"data.csv\")"
   ]
  },
  {
   "cell_type": "code",
   "execution_count": 48,
   "metadata": {},
   "outputs": [
    {
     "name": "stdout",
     "output_type": "stream",
     "text": [
      "4208000\n",
      "['four', 'million,', 'two', 'hundred', 'and', 'eight', 'thousand']\n",
      " \n",
      "\n",
      "Pour million two hundlreol and eiahty {housarel\n",
      "\f",
      "\n",
      "8\n",
      "\n",
      "\n",
      "Pour four\n",
      "75\n",
      "million million,\n",
      "100\n",
      "two two\n",
      "100\n",
      "hundlreol hundred\n",
      "75\n",
      "and and\n",
      "100\n",
      "eiahty eight\n",
      "73\n",
      "{housarel\n",
      "\f",
      " thousand\n",
      "62\n",
      "Success!\n"
     ]
    }
   ],
   "source": [
    "import pytesseract\n",
    "from fuzzywuzzy import fuzz \n",
    "from fuzzywuzzy import process \n",
    "from num2words import num2words\n",
    "\n",
    "numb_in_words = num2words(input())\n",
    "numb_arr = numb_in_words.split(\" \")\n",
    "print(numb_arr)\n",
    "\n",
    "output = pytesseract.image_to_string(training[5])\n",
    "print(output)\n",
    "word_arr = output.split(\" \")\n",
    "\n",
    "print(len(word_arr))\n",
    "\n",
    "total_current = 0\n",
    "for i in range(len(numb_arr)):\n",
    "    print(word_arr[i+1] + \" \" + numb_arr[i])\n",
    "    total_current += (fuzz.WRatio(word_arr[i+1], numb_arr[i]))\n",
    "    print ((fuzz.WRatio(word_arr[i+1], numb_arr[i])))\n",
    "    \n",
    "total = len(numb_arr) * 100\n",
    "total_needed = total * .75    \n",
    "\n",
    "if total_current >= total_needed:\n",
    "    print(\"Success!\")\n",
    "\n",
    "\n"
   ]
  },
  {
   "cell_type": "code",
   "execution_count": null,
   "metadata": {},
   "outputs": [],
   "source": []
  }
 ],
 "metadata": {
  "kernelspec": {
   "display_name": "Python 3",
   "language": "python",
   "name": "python3"
  },
  "language_info": {
   "codemirror_mode": {
    "name": "ipython",
    "version": 3
   },
   "file_extension": ".py",
   "mimetype": "text/x-python",
   "name": "python",
   "nbconvert_exporter": "python",
   "pygments_lexer": "ipython3",
   "version": "3.8.7"
  }
 },
 "nbformat": 4,
 "nbformat_minor": 4
}
